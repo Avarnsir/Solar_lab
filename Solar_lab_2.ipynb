{
 "cells": [
  {
   "cell_type": "code",
   "execution_count": 16,
   "id": "bab3d671-c2ff-4451-b27b-818f857d2ab0",
   "metadata": {},
   "outputs": [
    {
     "name": "stdin",
     "output_type": "stream",
     "text": [
      "Enter the path to your solar image:  /home/dell/Physics/Solar Lab/Sun2.jpeg\n"
     ]
    },
    {
     "name": "stdout",
     "output_type": "stream",
     "text": [
      "Number of sunspots detected: 1\n"
     ]
    },
    {
     "data": {
      "text/plain": [
       "1"
      ]
     },
     "execution_count": 16,
     "metadata": {},
     "output_type": "execute_result"
    }
   ],
   "source": [
    "import cv2\n",
    "\n",
    "def count_sunspots(image_path):\n",
    "    # Load the image in grayscale\n",
    "    image = cv2.imread(image_path, cv2.IMREAD_GRAYSCALE)\n",
    "    if image is None:\n",
    "        print(\"Error: Could not load image.\")\n",
    "        return 0\n",
    "\n",
    "    # Threshold to detect dark spots (sunspots)\n",
    "    _, thresholded = cv2.threshold(image, 50, 255, cv2.THRESH_BINARY_INV)\n",
    "\n",
    "    # Find sunspots (connected components)\n",
    "    contours, _ = cv2.findContours(thresholded, cv2.RETR_EXTERNAL, cv2.CHAIN_APPROX_SIMPLE)\n",
    "\n",
    "    # Count sunspots\n",
    "    sunspot_count = len(contours)\n",
    "\n",
    "    print(f\"Number of sunspots detected: {sunspot_count}\")\n",
    "    return sunspot_count\n",
    "\n",
    "# Get the path to the solar image\n",
    "image_path = input(\"Enter the path to your solar image: \")\n",
    "count_sunspots(image_path)"
   ]
  },
  {
   "cell_type": "code",
   "execution_count": null,
   "id": "79552b18-b6b9-4c00-96a7-0feb813e8852",
   "metadata": {},
   "outputs": [],
   "source": []
  }
 ],
 "metadata": {
  "kernelspec": {
   "display_name": "Python 3 (ipykernel)",
   "language": "python",
   "name": "python3"
  },
  "language_info": {
   "codemirror_mode": {
    "name": "ipython",
    "version": 3
   },
   "file_extension": ".py",
   "mimetype": "text/x-python",
   "name": "python",
   "nbconvert_exporter": "python",
   "pygments_lexer": "ipython3",
   "version": "3.12.2"
  }
 },
 "nbformat": 4,
 "nbformat_minor": 5
}
